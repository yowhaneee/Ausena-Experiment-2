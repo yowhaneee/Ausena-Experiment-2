{
 "cells": [
  {
   "cell_type": "markdown",
   "id": "a0162b0c-3c02-4c42-aafa-a2993a99f697",
   "metadata": {},
   "source": [
    "## PA 2.1 NORMALIZATION PROBLEM:\n",
    "Normalization is one of the most basic preprocessing techniques in data analytics. This involves centering and scaling process. Centering means subtracting the data from the mean and scaling means dividing with its standard deviation. Mathematically, normalization can be expressed as:\n",
    "𝑍 = 𝑋 − 𝑥̅ / 𝜎\n",
    "\n",
    "In Python, element-wise mean and element-wise standard deviation can be obtained by using .mean() and .std() calls.\n",
    "\n",
    "In this problem, create a random 5 x 5 ndarray and store it to variable X. Normalize X. Save your normalized ndarray as X_normalized.npy"
   ]
  },
  {
   "cell_type": "code",
   "execution_count": 42,
   "id": "4b118cd1-85dd-4dc1-b678-e3f485b79a34",
   "metadata": {},
   "outputs": [
    {
     "data": {
      "text/plain": [
       "array([[ 1.04081491,  1.10164713, -0.27806672,  0.58192288,  0.91020208],\n",
       "       [-1.22922735,  0.54875952,  0.10251323,  1.32485476,  1.20104387],\n",
       "       [ 0.40046079, -1.33282046, -0.17778549, -0.53866976, -0.82190373],\n",
       "       [-0.2713705 ,  1.23060879, -0.83047214,  0.17056519, -1.01211457],\n",
       "       [ 1.71483933, -1.67747193, -1.74406001,  0.59624895, -1.01051876]])"
      ]
     },
     "execution_count": 42,
     "metadata": {},
     "output_type": "execute_result"
    }
   ],
   "source": [
    "# Start \n",
    "import numpy as np\n",
    "\n",
    "# Create a random 5x5 ndarray\n",
    "X = np.random.random((5, 5))\n",
    "\n",
    "# Normalize X (subtract the mean and divide by the standard deviation)\n",
    "X_normalized = (X - X.mean()) / X.std()\n",
    "\n",
    "# Save the normalized ndarray as X_normalized.npy\n",
    "np.save('X_normalized.npy', X_normalized)\n",
    "\n",
    "# Testing if the npy file will work by loading\n",
    "np.load('X_normalized.npy')\n",
    "\n",
    "# End"
   ]
  },
  {
   "cell_type": "markdown",
   "id": "c1be0826-5b61-4a47-a1ac-1394fd8a39fc",
   "metadata": {},
   "source": [
    "## PA 2.2 DIVISIBLE BY 3 PROBLEM:\n",
    "Create the following 10 x 10 ndarray. which are the squares of the first 100 positive integers.\n",
    "\n",
    "From this ndarray, determine all the elements that are divisible by 3. Save the result as div_by_3.npy"
   ]
  },
  {
   "cell_type": "code",
   "execution_count": 47,
   "id": "9ae2a883-2c5d-4889-b003-df6bb3f7b675",
   "metadata": {},
   "outputs": [
    {
     "data": {
      "text/plain": [
       "array([   9,   36,   81,  144,  225,  324,  441,  576,  729,  900, 1089,\n",
       "       1296, 1521, 1764, 2025, 2304, 2601, 2916, 3249, 3600, 3969, 4356,\n",
       "       4761, 5184, 5625, 6084, 6561, 7056, 7569, 8100, 8649, 9216, 9801])"
      ]
     },
     "execution_count": 47,
     "metadata": {},
     "output_type": "execute_result"
    }
   ],
   "source": [
    "# Start\n",
    "import numpy as np\n",
    "\n",
    "# Get the squares of first 100 positive integers\n",
    "s = np.arange(1,101) ** 2\n",
    "\n",
    "# Make the array into a 10 x 10 matrix\n",
    "A = s.reshape(10,10)\n",
    "\n",
    "# Determine all the elements that are divisible by 3\n",
    "div_by_3 = A[A % 3 == 0]\n",
    "\n",
    "# Save the Result as div_by_3.npy\n",
    "np.save('div_by_3.npy', div_by_3)\n",
    "\n",
    "# Testing if the npy file will work by loading\n",
    "np.load('div_by_3.npy')\n",
    "\n",
    "# End"
   ]
  },
  {
   "cell_type": "code",
   "execution_count": null,
   "id": "13195f91-00ff-4637-b914-ad08d285351b",
   "metadata": {},
   "outputs": [],
   "source": []
  }
 ],
 "metadata": {
  "kernelspec": {
   "display_name": "Python 3 (ipykernel)",
   "language": "python",
   "name": "python3"
  },
  "language_info": {
   "codemirror_mode": {
    "name": "ipython",
    "version": 3
   },
   "file_extension": ".py",
   "mimetype": "text/x-python",
   "name": "python",
   "nbconvert_exporter": "python",
   "pygments_lexer": "ipython3",
   "version": "3.12.4"
  }
 },
 "nbformat": 4,
 "nbformat_minor": 5
}
