{
 "cells": [
  {
   "cell_type": "code",
   "execution_count": 13,
   "id": "4b118cd1-85dd-4dc1-b678-e3f485b79a34",
   "metadata": {},
   "outputs": [
    {
     "name": "stdout",
     "output_type": "stream",
     "text": [
      "Original Array X: \n",
      " [[0.06233989 0.62225928 0.48863472 0.97286363 0.68642289]\n",
      " [0.34679282 0.88293833 0.59329993 0.82859883 0.15943695]\n",
      " [0.63348813 0.9887559  0.44295775 0.12831277 0.74899206]\n",
      " [0.23986518 0.80805352 0.45567884 0.64284891 0.56108597]\n",
      " [0.65711104 0.78884491 0.01874279 0.11296986 0.91626172]]\n",
      "\n",
      "Normalized Array:\n",
      " [[-1.6825682   0.24338238 -0.21624502  1.44935357  0.46408547]\n",
      " [-0.70413757  1.14003817  0.14377114  0.953127   -1.34858413]\n",
      " [ 0.28200617  1.50401809 -0.37335974 -1.45564176  0.67930418]\n",
      " [-1.07193576  0.88245743 -0.32960313  0.31420437  0.032965  ]\n",
      " [ 0.36326171  0.81638573 -1.83252879 -1.50841666  1.25466037]]\n"
     ]
    }
   ],
   "source": [
    "import numpy as np\n",
    "\n",
    "# Create a random 5x5 ndarray\n",
    "X = np.random.random((5, 5))\n",
    "\n",
    "# Normalize X (subtract the mean and divide by the standard deviation)\n",
    "X_normalized = (X - X.mean()) / X.std()\n",
    "\n",
    "# Save the normalized ndarray as X_normalized.npy\n",
    "np.save('X_normalized.npy', X_normalized)\n",
    "\n",
    "# Show the original and normalized arrays for verification\n",
    "print('Original Array X: \\n' , X)\n",
    "print('\\nNormalized Array:\\n' , X_normalized)\n"
   ]
  },
  {
   "cell_type": "code",
   "execution_count": 17,
   "id": "9ae2a883-2c5d-4889-b003-df6bb3f7b675",
   "metadata": {},
   "outputs": [
    {
     "name": "stdout",
     "output_type": "stream",
     "text": [
      "Original Array:\n",
      " [[    1     4     9    16    25    36    49    64    81   100]\n",
      " [  121   144   169   196   225   256   289   324   361   400]\n",
      " [  441   484   529   576   625   676   729   784   841   900]\n",
      " [  961  1024  1089  1156  1225  1296  1369  1444  1521  1600]\n",
      " [ 1681  1764  1849  1936  2025  2116  2209  2304  2401  2500]\n",
      " [ 2601  2704  2809  2916  3025  3136  3249  3364  3481  3600]\n",
      " [ 3721  3844  3969  4096  4225  4356  4489  4624  4761  4900]\n",
      " [ 5041  5184  5329  5476  5625  5776  5929  6084  6241  6400]\n",
      " [ 6561  6724  6889  7056  7225  7396  7569  7744  7921  8100]\n",
      " [ 8281  8464  8649  8836  9025  9216  9409  9604  9801 10000]]\n",
      "\n",
      "Elements Divisible by 3:\n",
      " [   9   36   81  144  225  324  441  576  729  900 1089 1296 1521 1764\n",
      " 2025 2304 2601 2916 3249 3600 3969 4356 4761 5184 5625 6084 6561 7056\n",
      " 7569 8100 8649 9216 9801]\n"
     ]
    }
   ],
   "source": [
    "import numpy as np\n",
    "\n",
    "# Get the squares of first 100 positive integers\n",
    "s = np.arange(1,101) ** 2\n",
    "\n",
    "# Make the array into a 10 x 10 matrix\n",
    "A = s.reshape(10,10)\n",
    "\n",
    "# Determine all the elements that are divisible by 3\n",
    "div_by_3 = A[A % 3 == 0]\n",
    "\n",
    "# Show the original array and the array of elements by 3 for verificatio\\n\n",
    "print('Original Array:\\n', A)\n",
    "print('\\nElements Divisible by 3:\\n', div_by_3)\n"
   ]
  }
 ],
 "metadata": {
  "kernelspec": {
   "display_name": "Python 3 (ipykernel)",
   "language": "python",
   "name": "python3"
  },
  "language_info": {
   "codemirror_mode": {
    "name": "ipython",
    "version": 3
   },
   "file_extension": ".py",
   "mimetype": "text/x-python",
   "name": "python",
   "nbconvert_exporter": "python",
   "pygments_lexer": "ipython3",
   "version": "3.12.4"
  }
 },
 "nbformat": 4,
 "nbformat_minor": 5
}
