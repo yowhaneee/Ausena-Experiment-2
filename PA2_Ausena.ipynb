{
 "cells": [
  {
   "cell_type": "code",
   "execution_count": 28,
   "id": "4b118cd1-85dd-4dc1-b678-e3f485b79a34",
   "metadata": {},
   "outputs": [
    {
     "data": {
      "text/plain": [
       "array([[-0.61684593,  1.85375782, -0.97774328, -0.02283045,  1.48259228],\n",
       "       [-0.19804701, -0.98604771, -0.16885045, -1.29273306, -0.52170233],\n",
       "       [ 1.2444531 , -0.63810941, -0.89570573,  0.88172362, -1.15432017],\n",
       "       [-0.91616219,  1.78103561,  0.91794301,  0.62675072,  1.40532804],\n",
       "       [-1.12800093, -0.28368372, -0.00781304, -1.0666402 ,  0.6816514 ]])"
      ]
     },
     "execution_count": 28,
     "metadata": {},
     "output_type": "execute_result"
    }
   ],
   "source": [
    "import numpy as np\n",
    "\n",
    "# Create a random 5x5 ndarray\n",
    "X = np.random.random((5, 5))\n",
    "\n",
    "# Normalize X (subtract the mean and divide by the standard deviation)\n",
    "X_normalized = (X - X.mean()) / X.std()\n",
    "\n",
    "# Save the normalized ndarray as X_normalized.npy\n",
    "np.save('X_normalized.npy', X_normalized)\n",
    "\n",
    "# Testing if the npy file will work by loading\n",
    "np.load('X_normalized.npy')\n"
   ]
  },
  {
   "cell_type": "code",
   "execution_count": 30,
   "id": "9ae2a883-2c5d-4889-b003-df6bb3f7b675",
   "metadata": {},
   "outputs": [
    {
     "data": {
      "text/plain": [
       "array([   9,   36,   81,  144,  225,  324,  441,  576,  729,  900, 1089,\n",
       "       1296, 1521, 1764, 2025, 2304, 2601, 2916, 3249, 3600, 3969, 4356,\n",
       "       4761, 5184, 5625, 6084, 6561, 7056, 7569, 8100, 8649, 9216, 9801])"
      ]
     },
     "execution_count": 30,
     "metadata": {},
     "output_type": "execute_result"
    }
   ],
   "source": [
    "import numpy as np\n",
    "\n",
    "# Get the squares of first 100 positive integers\n",
    "s = np.arange(1,101) ** 2\n",
    "\n",
    "# Make the array into a 10 x 10 matrix\n",
    "A = s.reshape(10,10)\n",
    "\n",
    "# Determine all the elements that are divisible by 3\n",
    "div_by_3 = A[A % 3 == 0]\n",
    "\n",
    "# Save the Result as div_by_3.npy\n",
    "np.save('div_by_3.npy', div_by_3)\n",
    "\n",
    "# Testing if the npy file will work by loading\n",
    "np.load('div_by_3.npy')\n"
   ]
  },
  {
   "cell_type": "code",
   "execution_count": null,
   "id": "6951821e-cc14-424a-8e9f-4510df2d2668",
   "metadata": {},
   "outputs": [],
   "source": []
  }
 ],
 "metadata": {
  "kernelspec": {
   "display_name": "Python 3 (ipykernel)",
   "language": "python",
   "name": "python3"
  },
  "language_info": {
   "codemirror_mode": {
    "name": "ipython",
    "version": 3
   },
   "file_extension": ".py",
   "mimetype": "text/x-python",
   "name": "python",
   "nbconvert_exporter": "python",
   "pygments_lexer": "ipython3",
   "version": "3.12.4"
  }
 },
 "nbformat": 4,
 "nbformat_minor": 5
}
